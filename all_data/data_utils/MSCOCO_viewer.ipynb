{
 "cells": [
  {
   "cell_type": "code",
   "execution_count": null,
   "metadata": {
    "vscode": {
     "languageId": "plaintext"
    }
   },
   "outputs": [],
   "source": [
    "!pip install ipywidgets"
   ]
  },
  {
   "cell_type": "code",
   "execution_count": null,
   "metadata": {
    "vscode": {
     "languageId": "plaintext"
    }
   },
   "outputs": [],
   "source": [
    "!wget http://images.cocodataset.org/annotations/annotations_trainval2017.zip"
   ]
  },
  {
   "cell_type": "code",
   "execution_count": null,
   "metadata": {
    "vscode": {
     "languageId": "plaintext"
    }
   },
   "outputs": [],
   "source": [
    "!unzip annotations_trainval2017.zip"
   ]
  },
  {
   "cell_type": "code",
   "execution_count": null,
   "metadata": {
    "vscode": {
     "languageId": "plaintext"
    }
   },
   "outputs": [],
   "source": [
    "import json\n",
    "import pandas as pd\n",
    "import matplotlib.pyplot as plt\n",
    "import ipywidgets as widgets\n",
    "from IPython.display import display, Image\n",
    "import requests\n",
    "from io import BytesIO\n",
    "from tqdm import tqdm"
   ]
  },
  {
   "cell_type": "code",
   "execution_count": null,
   "metadata": {
    "vscode": {
     "languageId": "plaintext"
    }
   },
   "outputs": [],
   "source": [
    "with open(\"/content/annotations/captions_train2017.json\", \"r\") as f:\n",
    "  data = json.load(f)\n",
    "data.keys()"
   ]
  },
  {
   "cell_type": "code",
   "execution_count": null,
   "metadata": {
    "vscode": {
     "languageId": "plaintext"
    }
   },
   "outputs": [],
   "source": [
    "keywords = [\"road\", \"cars\"]\n",
    "result_list = []\n",
    "for item in data['annotations']:\n",
    "    for keyword in keywords:\n",
    "\n",
    "        if keyword in item['caption'].lower():\n",
    "            result_list.append(item)\n",
    "            continue\n",
    "\n",
    "print(len(result_list))"
   ]
  },
  {
   "cell_type": "code",
   "execution_count": null,
   "metadata": {
    "vscode": {
     "languageId": "plaintext"
    }
   },
   "outputs": [],
   "source": [
    "dict_id_captions = {}\n",
    "for _data in result_list:\n",
    "    if(dict_id_captions.get(_data['image_id']) is None):\n",
    "        dict_id_captions[ _data['image_id'] ] = []\n",
    "    dict_id_captions[ _data['image_id'] ].append(_data['caption'])"
   ]
  },
  {
   "cell_type": "code",
   "execution_count": null,
   "metadata": {
    "vscode": {
     "languageId": "plaintext"
    }
   },
   "outputs": [],
   "source": [
    "image_with_caption = {}\n",
    "for image in data['images']:\n",
    "    captions = dict_id_captions.get(image['id'])\n",
    "    if(captions is not None):\n",
    "        if( len(captions) > 0):\n",
    "            image_with_caption[image['id']] = {\"url\": image['coco_url'], \"captions\": captions}"
   ]
  },
  {
   "cell_type": "code",
   "execution_count": null,
   "metadata": {
    "vscode": {
     "languageId": "plaintext"
    }
   },
   "outputs": [],
   "source": [
    "class DataLooker():\n",
    "    def __init__(self, data):\n",
    "        self.data = data\n",
    "        self.key_list = list( self.data.keys())\n",
    "        self.tem = []\n",
    "\n",
    "    def showNImageAndCaption(self, from_index, to_index):\n",
    "        for _key in self.key_list[from_index:to_index]:\n",
    "            image = self.data.get(_key)\n",
    "            image['id'] = _key\n",
    "            self.tem.append( image )\n",
    "        return self\n",
    "\n",
    "    def drawIteratively(self):\n",
    "        # 이미지와 캡션을 담을 위젯 리스트 생성\n",
    "        items = []\n",
    "\n",
    "        for image in tqdm(self.tem):\n",
    "            response = requests.get(image['url'])\n",
    "            img_data = BytesIO(response.content).getvalue()\n",
    "\n",
    "            # 이미지 위젯 생성\n",
    "            img_widget = widgets.Image(value=img_data, format='jpeg', width=300, height=300)\n",
    "\n",
    "            # 캡션이 있을 경우 처리\n",
    "            if image.get('captions'):\n",
    "                if len(image['captions']) > 0:\n",
    "                    # HTML 태그를 사용하여 줄바꿈을 삽입\n",
    "                    captions_text = \"<br>\".join(image['captions'])\n",
    "            else:\n",
    "                captions_text = \"<<No captions available.>>\"\n",
    "\n",
    "            # 캡션 HTML 위젯 생성\n",
    "            caption_widget = widgets.HTML(value=f\"<p>{image['id']}: {captions_text}</p>\")\n",
    "\n",
    "            # 이미지와 캡션을 수직으로 배치\n",
    "            vbox = widgets.VBox([img_widget, caption_widget])\n",
    "\n",
    "            # GridBox에 넣을 항목 추가\n",
    "            items.append(vbox)\n",
    "\n",
    "        # 2열 그리드 박스 생성\n",
    "        grid = widgets.GridBox(items, layout=widgets.Layout(grid_template_columns=\"repeat(3, 1fr)\"))\n",
    "\n",
    "        # 출력\n",
    "        display(grid)"
   ]
  },
  {
   "cell_type": "code",
   "execution_count": null,
   "metadata": {
    "vscode": {
     "languageId": "plaintext"
    }
   },
   "outputs": [],
   "source": [
    "datalookwer = DataLooker(image_with_caption)\n",
    "datalookwer.showNImageAndCaption(0, 106).drawIteratively()"
   ]
  }
 ],
 "metadata": {
  "language_info": {
   "name": "python"
  }
 },
 "nbformat": 4,
 "nbformat_minor": 2
}
